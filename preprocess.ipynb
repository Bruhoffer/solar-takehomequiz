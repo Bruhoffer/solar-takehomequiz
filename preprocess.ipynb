{
 "cells": [
  {
   "cell_type": "code",
   "execution_count": 6,
   "metadata": {},
   "outputs": [
    {
     "name": "stdout",
     "output_type": "stream",
     "text": [
      "Data saved to CSV file. You can download it from: ./data/merged_data.csv\n"
     ]
    }
   ],
   "source": [
    "from pathlib import Path\n",
    "import pandas as pd\n",
    "import os\n",
    "\n",
    "def preprocess_and_merge_data(ghi_path, pr_path):\n",
    "    months = os.listdir(ghi_path)\n",
    "    all_data = pd.DataFrame()\n",
    "    \n",
    "    for month in months:\n",
    "        ghi_month_path = Path(ghi_path) / month\n",
    "        pr_month_path = Path(pr_path) / month\n",
    "        \n",
    "        ghi_files = sorted(ghi_month_path.glob('*.csv'))\n",
    "        pr_files = sorted(pr_month_path.glob('*.csv'))\n",
    "        \n",
    "        ghi_month_data = pd.concat([pd.read_csv(f) for f in ghi_files], ignore_index=True)\n",
    "        pr_month_data = pd.concat([pd.read_csv(f) for f in pr_files], ignore_index=True)\n",
    "        \n",
    "        merged_data = pd.merge(ghi_month_data, pr_month_data, on='Date', how='outer')\n",
    "        all_data = pd.concat([all_data, merged_data], ignore_index=True)\n",
    "        \n",
    "    all_data['Date'] = pd.to_datetime(all_data['Date'])  # Ensure the 'Date' column is in datetime format\n",
    "    all_data = all_data.sort_values(by='Date', ascending=True).reset_index(drop=True)\n",
    "    \n",
    "    return all_data\n",
    "\n",
    "\n",
    "# Assuming the script is running in a directory that is a sibling to 'Data'\n",
    "base_path = Path('./Data')  # Adjust the './' if your script is in another directory\n",
    "\n",
    "# Construct the paths to the GHI and PR folders\n",
    "ghi_path = base_path / 'GHI'\n",
    "pr_path = base_path / 'PR'\n",
    "\n",
    "# Call the function with these paths\n",
    "all_data = preprocess_and_merge_data(ghi_path, pr_path)\n",
    "output_file_path = './data/merged_data.csv'  # Specify your desired output file path\n",
    "all_data.to_csv(output_file_path, index=False)  # 'index=False' to prevent writing row indices\n",
    "\n",
    "print(\"Data saved to CSV file. You can download it from:\", output_file_path)\n"
   ]
  },
  {
   "cell_type": "code",
   "execution_count": 9,
   "metadata": {},
   "outputs": [
    {
     "name": "stdout",
     "output_type": "stream",
     "text": [
      "/Users/justiny/Projects/solarassessment\n"
     ]
    }
   ],
   "source": [
    "import os\n",
    "print(os.getcwd())"
   ]
  },
  {
   "cell_type": "code",
   "execution_count": null,
   "metadata": {},
   "outputs": [],
   "source": []
  }
 ],
 "metadata": {
  "kernelspec": {
   "display_name": "tutorial",
   "language": "python",
   "name": "python3"
  },
  "language_info": {
   "codemirror_mode": {
    "name": "ipython",
    "version": 3
   },
   "file_extension": ".py",
   "mimetype": "text/x-python",
   "name": "python",
   "nbconvert_exporter": "python",
   "pygments_lexer": "ipython3",
   "version": "3.12.4"
  }
 },
 "nbformat": 4,
 "nbformat_minor": 2
}
